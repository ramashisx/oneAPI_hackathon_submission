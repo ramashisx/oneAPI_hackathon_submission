{
 "cells": [
  {
   "cell_type": "markdown",
   "id": "ace173cb",
   "metadata": {},
   "source": [
    "### Import intel extension"
   ]
  },
  {
   "cell_type": "code",
   "execution_count": 1,
   "id": "5ec64b1b",
   "metadata": {},
   "outputs": [
    {
     "name": "stderr",
     "output_type": "stream",
     "text": [
      "/home/u136698/.local/lib/python3.9/site-packages/torchvision/io/image.py:13: UserWarning: Failed to load image Python extension: ''If you don't plan on using image functionality from `torchvision.io`, you can ignore this warning. Otherwise, there might be something wrong with your environment. Did you have `libjpeg` or `libpng` installed before building `torchvision` from source?\n",
      "  warn(\n"
     ]
    }
   ],
   "source": [
    "############# code changes ###############\n",
    "import intel_extension_for_pytorch as ipex\n",
    "############# code changes ###############"
   ]
  },
  {
   "cell_type": "code",
   "execution_count": 2,
   "id": "bff7b935",
   "metadata": {
    "_cell_guid": "b1076dfc-b9ad-4769-8c92-a6c4dae69d19",
    "_uuid": "8f2839f25d086af736a60e9eeb907d3b93b6e0e5",
    "execution": {
     "iopub.execute_input": "2023-10-15T11:00:14.304379Z",
     "iopub.status.busy": "2023-10-15T11:00:14.304005Z",
     "iopub.status.idle": "2023-10-15T11:00:31.472653Z",
     "shell.execute_reply": "2023-10-15T11:00:31.471624Z"
    },
    "papermill": {
     "duration": 17.176853,
     "end_time": "2023-10-15T11:00:31.475060",
     "exception": false,
     "start_time": "2023-10-15T11:00:14.298207",
     "status": "completed"
    },
    "tags": []
   },
   "outputs": [
    {
     "name": "stderr",
     "output_type": "stream",
     "text": [
      "2023-10-20 09:31:49,039 - numexpr.utils - INFO - Note: detected 224 virtual cores but NumExpr set to maximum of 64, check \"NUMEXPR_MAX_THREADS\" environment variable.\n",
      "2023-10-20 09:31:49,044 - numexpr.utils - INFO - Note: NumExpr detected 224 cores but \"NUMEXPR_MAX_THREADS\" not set, so enforcing safe limit of 8.\n",
      "2023-10-20 09:31:49,047 - numexpr.utils - INFO - NumExpr defaulting to 8 threads.\n",
      "Intel(R) Extension for Scikit-learn* enabled (https://github.com/intel/scikit-learn-intelex)\n"
     ]
    }
   ],
   "source": [
    "from  transformers  import  AutoTokenizer, AutoModelForSeq2SeqLM, pipeline"
   ]
  },
  {
   "cell_type": "code",
   "execution_count": 3,
   "id": "d12f300e",
   "metadata": {},
   "outputs": [],
   "source": [
    "import torch\n",
    "from tqdm.notebook import tqdm"
   ]
  },
  {
   "cell_type": "markdown",
   "id": "2ec89b24",
   "metadata": {},
   "source": [
    "## load model"
   ]
  },
  {
   "cell_type": "code",
   "execution_count": 4,
   "id": "d6501d3a",
   "metadata": {
    "execution": {
     "iopub.execute_input": "2023-10-15T11:00:31.485038Z",
     "iopub.status.busy": "2023-10-15T11:00:31.484706Z",
     "iopub.status.idle": "2023-10-15T11:00:31.488976Z",
     "shell.execute_reply": "2023-10-15T11:00:31.488000Z"
    },
    "papermill": {
     "duration": 0.011642,
     "end_time": "2023-10-15T11:00:31.490849",
     "exception": false,
     "start_time": "2023-10-15T11:00:31.479207",
     "status": "completed"
    },
    "tags": []
   },
   "outputs": [],
   "source": [
    "model_name = \"/home/u136698/Training/My_Codes/sparse-T5-QA\""
   ]
  },
  {
   "cell_type": "code",
   "execution_count": 5,
   "id": "a0270705",
   "metadata": {
    "execution": {
     "iopub.execute_input": "2023-10-15T11:00:31.499732Z",
     "iopub.status.busy": "2023-10-15T11:00:31.499092Z",
     "iopub.status.idle": "2023-10-15T11:00:46.429602Z",
     "shell.execute_reply": "2023-10-15T11:00:46.428634Z"
    },
    "papermill": {
     "duration": 14.937342,
     "end_time": "2023-10-15T11:00:46.431853",
     "exception": false,
     "start_time": "2023-10-15T11:00:31.494511",
     "status": "completed"
    },
    "tags": []
   },
   "outputs": [
    {
     "name": "stderr",
     "output_type": "stream",
     "text": [
      "Special tokens have been added in the vocabulary, make sure the associated word embeddings are fine-tuned or trained.\n"
     ]
    }
   ],
   "source": [
    "tokenizer = AutoTokenizer.from_pretrained(model_name)\n",
    "model = AutoModelForSeq2SeqLM.from_pretrained(model_name)"
   ]
  },
  {
   "cell_type": "markdown",
   "id": "f1cb6299",
   "metadata": {},
   "source": [
    "### optimize the model"
   ]
  },
  {
   "cell_type": "code",
   "execution_count": 6,
   "id": "53ddce63",
   "metadata": {},
   "outputs": [
    {
     "name": "stderr",
     "output_type": "stream",
     "text": [
      "/home/u136698/.local/lib/python3.9/site-packages/intel_extension_for_pytorch/frontend.py:611: UserWarning: Conv BatchNorm folding failed during the optimize process.\n",
      "  warnings.warn(\n",
      "/home/u136698/.local/lib/python3.9/site-packages/intel_extension_for_pytorch/frontend.py:618: UserWarning: Linear BatchNorm folding failed during the optimize process.\n",
      "  warnings.warn(\n"
     ]
    }
   ],
   "source": [
    "#################### code changes #################\n",
    "model = model.to(\"xpu\")\n",
    "model = ipex.optimize(model, dtype=torch.float16)\n",
    "#################### code changes #################"
   ]
  },
  {
   "cell_type": "code",
   "execution_count": 7,
   "id": "9cbd2488",
   "metadata": {
    "execution": {
     "iopub.execute_input": "2023-10-15T11:00:46.440757Z",
     "iopub.status.busy": "2023-10-15T11:00:46.440451Z",
     "iopub.status.idle": "2023-10-15T11:00:46.444578Z",
     "shell.execute_reply": "2023-10-15T11:00:46.443529Z"
    },
    "papermill": {
     "duration": 0.010633,
     "end_time": "2023-10-15T11:00:46.446503",
     "exception": false,
     "start_time": "2023-10-15T11:00:46.435870",
     "status": "completed"
    },
    "tags": []
   },
   "outputs": [],
   "source": [
    "import pandas as pd"
   ]
  },
  {
   "cell_type": "code",
   "execution_count": 8,
   "id": "ae45769d",
   "metadata": {
    "execution": {
     "iopub.execute_input": "2023-10-15T11:00:46.454596Z",
     "iopub.status.busy": "2023-10-15T11:00:46.454351Z",
     "iopub.status.idle": "2023-10-15T11:00:47.395619Z",
     "shell.execute_reply": "2023-10-15T11:00:47.394739Z"
    },
    "papermill": {
     "duration": 0.947905,
     "end_time": "2023-10-15T11:00:47.398016",
     "exception": false,
     "start_time": "2023-10-15T11:00:46.450111",
     "status": "completed"
    },
    "tags": []
   },
   "outputs": [],
   "source": [
    "test_data = pd.read_csv(\"../data/test.csv\")"
   ]
  },
  {
   "cell_type": "code",
   "execution_count": 9,
   "id": "9a3ba039",
   "metadata": {
    "execution": {
     "iopub.execute_input": "2023-10-15T11:00:47.406944Z",
     "iopub.status.busy": "2023-10-15T11:00:47.406610Z",
     "iopub.status.idle": "2023-10-15T11:00:47.638051Z",
     "shell.execute_reply": "2023-10-15T11:00:47.637054Z"
    },
    "papermill": {
     "duration": 0.238587,
     "end_time": "2023-10-15T11:00:47.640411",
     "exception": false,
     "start_time": "2023-10-15T11:00:47.401824",
     "status": "completed"
    },
    "tags": []
   },
   "outputs": [],
   "source": [
    "test_data[\"input\"] = test_data.apply(lambda x: f'question: {x[\"Question\"]}  context: {x[\"Story\"]}', axis=1)"
   ]
  },
  {
   "cell_type": "code",
   "execution_count": 10,
   "id": "b3fb307e",
   "metadata": {
    "execution": {
     "iopub.execute_input": "2023-10-15T11:00:47.649981Z",
     "iopub.status.busy": "2023-10-15T11:00:47.649358Z",
     "iopub.status.idle": "2023-10-15T11:00:47.666646Z",
     "shell.execute_reply": "2023-10-15T11:00:47.665732Z"
    },
    "papermill": {
     "duration": 0.023784,
     "end_time": "2023-10-15T11:00:47.668565",
     "exception": false,
     "start_time": "2023-10-15T11:00:47.644781",
     "status": "completed"
    },
    "tags": []
   },
   "outputs": [
    {
     "data": {
      "text/html": [
       "<div>\n",
       "<style scoped>\n",
       "    .dataframe tbody tr th:only-of-type {\n",
       "        vertical-align: middle;\n",
       "    }\n",
       "\n",
       "    .dataframe tbody tr th {\n",
       "        vertical-align: top;\n",
       "    }\n",
       "\n",
       "    .dataframe thead th {\n",
       "        text-align: right;\n",
       "    }\n",
       "</style>\n",
       "<table border=\"1\" class=\"dataframe\">\n",
       "  <thead>\n",
       "    <tr style=\"text-align: right;\">\n",
       "      <th></th>\n",
       "      <th>Story</th>\n",
       "      <th>Question</th>\n",
       "      <th>input</th>\n",
       "    </tr>\n",
       "  </thead>\n",
       "  <tbody>\n",
       "    <tr>\n",
       "      <th>0</th>\n",
       "      <td>CHAPTER I \\n\\nON THE HOUSEBOAT \\n\\n\"Say, Tom, ...</td>\n",
       "      <td>What was Sam's mood?</td>\n",
       "      <td>question: What was Sam's mood?  context: CHAPT...</td>\n",
       "    </tr>\n",
       "    <tr>\n",
       "      <th>1</th>\n",
       "      <td>The Uralic languages (; sometimes called Urali...</td>\n",
       "      <td>By how many?</td>\n",
       "      <td>question: By how many?  context: The Uralic la...</td>\n",
       "    </tr>\n",
       "    <tr>\n",
       "      <th>2</th>\n",
       "      <td>The University of Wisconsin–Madison (also know...</td>\n",
       "      <td>How many schools and colleges does it have?</td>\n",
       "      <td>question: How many schools and colleges does i...</td>\n",
       "    </tr>\n",
       "    <tr>\n",
       "      <th>3</th>\n",
       "      <td>(CNN) -- The unexpected resignation of David P...</td>\n",
       "      <td>What happened?</td>\n",
       "      <td>question: What happened?  context: (CNN) -- Th...</td>\n",
       "    </tr>\n",
       "    <tr>\n",
       "      <th>4</th>\n",
       "      <td>CHAPTER THIRTY-TWO \\n\\nTENDER TROUBLES \\n\\n\"Jo...</td>\n",
       "      <td>Why does Mrs. March not force her children's c...</td>\n",
       "      <td>question: Why does Mrs. March not force her ch...</td>\n",
       "    </tr>\n",
       "    <tr>\n",
       "      <th>...</th>\n",
       "      <td>...</td>\n",
       "      <td>...</td>\n",
       "      <td>...</td>\n",
       "    </tr>\n",
       "    <tr>\n",
       "      <th>28543</th>\n",
       "      <td>CHAPTER III. \\n\\n\"Nice customs curt'sy to grea...</td>\n",
       "      <td>Who was the Archbishop of Toledo that was of t...</td>\n",
       "      <td>question: Who was the Archbishop of Toledo tha...</td>\n",
       "    </tr>\n",
       "    <tr>\n",
       "      <th>28544</th>\n",
       "      <td>CHAPTER XI. \\n\\nIn the little dining-room of t...</td>\n",
       "      <td>Who lived there?</td>\n",
       "      <td>question: Who lived there?  context: CHAPTER X...</td>\n",
       "    </tr>\n",
       "    <tr>\n",
       "      <th>28545</th>\n",
       "      <td>Chapter XXX. \\n\\n\"I shall go on through all et...</td>\n",
       "      <td>is he fair?</td>\n",
       "      <td>question: is he fair?  context: Chapter XXX. \\...</td>\n",
       "    </tr>\n",
       "    <tr>\n",
       "      <th>28546</th>\n",
       "      <td>Chapter XXXIV \\n\\nViolence \\n\\n\\n\\nIt had been...</td>\n",
       "      <td>Where was he to stay until this trip?</td>\n",
       "      <td>question: Where was he to stay until this trip...</td>\n",
       "    </tr>\n",
       "    <tr>\n",
       "      <th>28547</th>\n",
       "      <td>Be home by dinnertime, Eric's mother said as h...</td>\n",
       "      <td>what reptile did his friend bring?</td>\n",
       "      <td>question: what reptile did his friend bring?  ...</td>\n",
       "    </tr>\n",
       "  </tbody>\n",
       "</table>\n",
       "<p>28548 rows × 3 columns</p>\n",
       "</div>"
      ],
      "text/plain": [
       "                                                   Story  \\\n",
       "0      CHAPTER I \\n\\nON THE HOUSEBOAT \\n\\n\"Say, Tom, ...   \n",
       "1      The Uralic languages (; sometimes called Urali...   \n",
       "2      The University of Wisconsin–Madison (also know...   \n",
       "3      (CNN) -- The unexpected resignation of David P...   \n",
       "4      CHAPTER THIRTY-TWO \\n\\nTENDER TROUBLES \\n\\n\"Jo...   \n",
       "...                                                  ...   \n",
       "28543  CHAPTER III. \\n\\n\"Nice customs curt'sy to grea...   \n",
       "28544  CHAPTER XI. \\n\\nIn the little dining-room of t...   \n",
       "28545  Chapter XXX. \\n\\n\"I shall go on through all et...   \n",
       "28546  Chapter XXXIV \\n\\nViolence \\n\\n\\n\\nIt had been...   \n",
       "28547  Be home by dinnertime, Eric's mother said as h...   \n",
       "\n",
       "                                                Question  \\\n",
       "0                                   What was Sam's mood?   \n",
       "1                                           By how many?   \n",
       "2            How many schools and colleges does it have?   \n",
       "3                                         What happened?   \n",
       "4      Why does Mrs. March not force her children's c...   \n",
       "...                                                  ...   \n",
       "28543  Who was the Archbishop of Toledo that was of t...   \n",
       "28544                                   Who lived there?   \n",
       "28545                                        is he fair?   \n",
       "28546              Where was he to stay until this trip?   \n",
       "28547                 what reptile did his friend bring?   \n",
       "\n",
       "                                                   input  \n",
       "0      question: What was Sam's mood?  context: CHAPT...  \n",
       "1      question: By how many?  context: The Uralic la...  \n",
       "2      question: How many schools and colleges does i...  \n",
       "3      question: What happened?  context: (CNN) -- Th...  \n",
       "4      question: Why does Mrs. March not force her ch...  \n",
       "...                                                  ...  \n",
       "28543  question: Who was the Archbishop of Toledo tha...  \n",
       "28544  question: Who lived there?  context: CHAPTER X...  \n",
       "28545  question: is he fair?  context: Chapter XXX. \\...  \n",
       "28546  question: Where was he to stay until this trip...  \n",
       "28547  question: what reptile did his friend bring?  ...  \n",
       "\n",
       "[28548 rows x 3 columns]"
      ]
     },
     "execution_count": 10,
     "metadata": {},
     "output_type": "execute_result"
    }
   ],
   "source": [
    "test_data"
   ]
  },
  {
   "cell_type": "code",
   "execution_count": null,
   "id": "b3a74105",
   "metadata": {
    "papermill": {
     "duration": 0.004139,
     "end_time": "2023-10-15T11:00:47.676876",
     "exception": false,
     "start_time": "2023-10-15T11:00:47.672737",
     "status": "completed"
    },
    "tags": []
   },
   "outputs": [],
   "source": []
  },
  {
   "cell_type": "markdown",
   "id": "aaf3e9b9",
   "metadata": {},
   "source": [
    "### encode the input"
   ]
  },
  {
   "cell_type": "code",
   "execution_count": 11,
   "id": "cf91909a",
   "metadata": {
    "execution": {
     "iopub.execute_input": "2023-10-15T11:00:47.686246Z",
     "iopub.status.busy": "2023-10-15T11:00:47.685929Z",
     "iopub.status.idle": "2023-10-15T11:01:27.381723Z",
     "shell.execute_reply": "2023-10-15T11:01:27.380673Z"
    },
    "papermill": {
     "duration": 39.703238,
     "end_time": "2023-10-15T11:01:27.384070",
     "exception": false,
     "start_time": "2023-10-15T11:00:47.680832",
     "status": "completed"
    },
    "tags": []
   },
   "outputs": [],
   "source": [
    "encoded_inputs = tokenizer.batch_encode_plus(\n",
    "    test_data[\"input\"].to_list(),\n",
    "    return_tensors='pt',\n",
    "    max_length=1024,\n",
    "    truncation=True,\n",
    "    padding=True\n",
    ")"
   ]
  },
  {
   "cell_type": "code",
   "execution_count": null,
   "id": "ab49299f",
   "metadata": {
    "execution": {
     "iopub.execute_input": "2023-10-15T11:01:27.393507Z",
     "iopub.status.busy": "2023-10-15T11:01:27.393178Z",
     "iopub.status.idle": "2023-10-15T11:01:27.397491Z",
     "shell.execute_reply": "2023-10-15T11:01:27.396459Z"
    },
    "papermill": {
     "duration": 0.011019,
     "end_time": "2023-10-15T11:01:27.399328",
     "exception": false,
     "start_time": "2023-10-15T11:01:27.388309",
     "status": "completed"
    },
    "tags": []
   },
   "outputs": [],
   "source": []
  },
  {
   "cell_type": "code",
   "execution_count": 12,
   "id": "eb575051",
   "metadata": {
    "execution": {
     "iopub.execute_input": "2023-10-15T11:01:27.408770Z",
     "iopub.status.busy": "2023-10-15T11:01:27.408015Z",
     "iopub.status.idle": "2023-10-15T11:01:27.412643Z",
     "shell.execute_reply": "2023-10-15T11:01:27.411822Z"
    },
    "papermill": {
     "duration": 0.011254,
     "end_time": "2023-10-15T11:01:27.414455",
     "exception": false,
     "start_time": "2023-10-15T11:01:27.403201",
     "status": "completed"
    },
    "tags": []
   },
   "outputs": [],
   "source": [
    "size = 128"
   ]
  },
  {
   "cell_type": "markdown",
   "id": "31b59145",
   "metadata": {},
   "source": [
    "### generate the results"
   ]
  },
  {
   "cell_type": "code",
   "execution_count": null,
   "id": "3f3d546c",
   "metadata": {
    "execution": {
     "iopub.execute_input": "2023-10-15T11:01:27.423074Z",
     "iopub.status.busy": "2023-10-15T11:01:27.422826Z",
     "iopub.status.idle": "2023-10-15T11:24:05.150363Z",
     "shell.execute_reply": "2023-10-15T11:24:05.149318Z"
    },
    "papermill": {
     "duration": 1357.734179,
     "end_time": "2023-10-15T11:24:05.152369",
     "exception": false,
     "start_time": "2023-10-15T11:01:27.418190",
     "status": "completed"
    },
    "tags": []
   },
   "outputs": [],
   "source": [
    "results = []\n",
    "with torch.no_grad():\n",
    "    ########################### code changes ########################\n",
    "    with torch.xpu.amp.autocast(enabled=True, dtype=torch.float16):\n",
    "    ########################### code changes ########################\n",
    "        for i in tqdm(range(encoded_inputs[\"input_ids\"].shape[0]//size + 1)):\n",
    "            payload = encoded_inputs[\"input_ids\"][i*size:(i+1)*size].to(\"xpu\")\n",
    "            result = tokenizer.batch_decode(model.generate(payload, max_length=128), skip_special_tokens=True)\n",
    "            results.extend(result)"
   ]
  },
  {
   "cell_type": "code",
   "execution_count": null,
   "id": "6a54ced8",
   "metadata": {},
   "outputs": [],
   "source": [
    "submission = pd.read_csv(\"./data/submission.csv\")"
   ]
  },
  {
   "cell_type": "code",
   "execution_count": 54,
   "id": "69db4469",
   "metadata": {},
   "outputs": [],
   "source": [
    "submission[\"Answer\"] = results"
   ]
  },
  {
   "cell_type": "markdown",
   "id": "9bd98d27",
   "metadata": {},
   "source": [
    "## simple post processing"
   ]
  },
  {
   "cell_type": "code",
   "execution_count": 55,
   "id": "1a58e2c6",
   "metadata": {
    "execution": {
     "iopub.execute_input": "2023-10-15T11:24:05.196517Z",
     "iopub.status.busy": "2023-10-15T11:24:05.196243Z",
     "iopub.status.idle": "2023-10-15T11:24:05.206730Z",
     "shell.execute_reply": "2023-10-15T11:24:05.205771Z"
    },
    "papermill": {
     "duration": 0.0172,
     "end_time": "2023-10-15T11:24:05.208437",
     "exception": false,
     "start_time": "2023-10-15T11:24:05.191237",
     "status": "completed"
    },
    "tags": []
   },
   "outputs": [],
   "source": [
    "submission[\"Answer\"] = submission[\"Answer\"].apply(lambda x: x.strip())"
   ]
  },
  {
   "cell_type": "code",
   "execution_count": 56,
   "id": "ee8bfe64",
   "metadata": {
    "execution": {
     "iopub.execute_input": "2023-10-15T11:24:05.217417Z",
     "iopub.status.busy": "2023-10-15T11:24:05.217175Z",
     "iopub.status.idle": "2023-10-15T11:24:05.259583Z",
     "shell.execute_reply": "2023-10-15T11:24:05.258649Z"
    },
    "papermill": {
     "duration": 0.049477,
     "end_time": "2023-10-15T11:24:05.261823",
     "exception": false,
     "start_time": "2023-10-15T11:24:05.212346",
     "status": "completed"
    },
    "tags": []
   },
   "outputs": [],
   "source": [
    "submission.to_csv(\"/tmp/submission.csv\", index=False)"
   ]
  },
  {
   "cell_type": "code",
   "execution_count": 57,
   "id": "9832275d",
   "metadata": {},
   "outputs": [],
   "source": [
    "submission = pd.read_csv(\"/tmp/submission.csv\")"
   ]
  },
  {
   "cell_type": "code",
   "execution_count": 58,
   "id": "a7780c02",
   "metadata": {
    "execution": {
     "iopub.execute_input": "2023-10-15T11:24:05.301430Z",
     "iopub.status.busy": "2023-10-15T11:24:05.301144Z",
     "iopub.status.idle": "2023-10-15T11:24:05.310184Z",
     "shell.execute_reply": "2023-10-15T11:24:05.309308Z"
    },
    "papermill": {
     "duration": 0.016001,
     "end_time": "2023-10-15T11:24:05.312113",
     "exception": false,
     "start_time": "2023-10-15T11:24:05.296112",
     "status": "completed"
    },
    "tags": []
   },
   "outputs": [],
   "source": [
    "submission[\"Answer\"] = submission[\"Answer\"].fillna(\"0\")\n",
    "submission[\"Answer\"] = submission[\"Answer\"].astype(str)"
   ]
  },
  {
   "cell_type": "markdown",
   "id": "941dd0d6",
   "metadata": {},
   "source": [
    "### save the submission file"
   ]
  },
  {
   "cell_type": "code",
   "execution_count": 59,
   "id": "51b8d6dc",
   "metadata": {
    "execution": {
     "iopub.execute_input": "2023-10-15T11:24:05.321379Z",
     "iopub.status.busy": "2023-10-15T11:24:05.321118Z",
     "iopub.status.idle": "2023-10-15T11:24:05.364165Z",
     "shell.execute_reply": "2023-10-15T11:24:05.363179Z"
    },
    "papermill": {
     "duration": 0.049898,
     "end_time": "2023-10-15T11:24:05.366121",
     "exception": false,
     "start_time": "2023-10-15T11:24:05.316223",
     "status": "completed"
    },
    "tags": []
   },
   "outputs": [],
   "source": [
    "submission.to_csv(\"../submission.csv\", index=False)"
   ]
  },
  {
   "cell_type": "code",
   "execution_count": 61,
   "id": "0dde0451",
   "metadata": {
    "papermill": {
     "duration": 0.004054,
     "end_time": "2023-10-15T11:24:05.374582",
     "exception": false,
     "start_time": "2023-10-15T11:24:05.370528",
     "status": "completed"
    },
    "tags": []
   },
   "outputs": [
    {
     "data": {
      "text/plain": [
       "Answer    0\n",
       "dtype: int64"
      ]
     },
     "execution_count": 61,
     "metadata": {},
     "output_type": "execute_result"
    }
   ],
   "source": [
    "pd.read_csv(\"../submission.csv\").isna().sum()"
   ]
  },
  {
   "cell_type": "code",
   "execution_count": null,
   "id": "75968807",
   "metadata": {},
   "outputs": [],
   "source": []
  }
 ],
 "metadata": {
  "kernelspec": {
   "display_name": "Python 3",
   "language": "python",
   "name": "python3"
  },
  "language_info": {
   "codemirror_mode": {
    "name": "ipython",
    "version": 3
   },
   "file_extension": ".py",
   "mimetype": "text/x-python",
   "name": "python",
   "nbconvert_exporter": "python",
   "pygments_lexer": "ipython3",
   "version": "3.9.16"
  },
  "papermill": {
   "default_parameters": {},
   "duration": 1438.272558,
   "end_time": "2023-10-15T11:24:09.193006",
   "environment_variables": {},
   "exception": null,
   "input_path": "__notebook__.ipynb",
   "output_path": "__notebook__.ipynb",
   "parameters": {},
   "start_time": "2023-10-15T11:00:10.920448",
   "version": "2.4.0"
  },
  "widgets": {
   "application/vnd.jupyter.widget-state+json": {
    "state": {
     "111b86eb3fdb4a4d8b7e9d657ed0c9f7": {
      "model_module": "@jupyter-widgets/controls",
      "model_module_version": "1.5.0",
      "model_name": "HTMLModel",
      "state": {
       "_dom_classes": [],
       "_model_module": "@jupyter-widgets/controls",
       "_model_module_version": "1.5.0",
       "_model_name": "HTMLModel",
       "_view_count": null,
       "_view_module": "@jupyter-widgets/controls",
       "_view_module_version": "1.5.0",
       "_view_name": "HTMLView",
       "description": "",
       "description_tooltip": null,
       "layout": "IPY_MODEL_3c5fe8929e654bd0b5107b1a4582afec",
       "placeholder": "​",
       "style": "IPY_MODEL_b581f61d21e74b259670a996ca591038",
       "value": "100%"
      }
     },
     "359305f7d8c04759811adde6ab6ac324": {
      "model_module": "@jupyter-widgets/base",
      "model_module_version": "1.2.0",
      "model_name": "LayoutModel",
      "state": {
       "_model_module": "@jupyter-widgets/base",
       "_model_module_version": "1.2.0",
       "_model_name": "LayoutModel",
       "_view_count": null,
       "_view_module": "@jupyter-widgets/base",
       "_view_module_version": "1.2.0",
       "_view_name": "LayoutView",
       "align_content": null,
       "align_items": null,
       "align_self": null,
       "border": null,
       "bottom": null,
       "display": null,
       "flex": null,
       "flex_flow": null,
       "grid_area": null,
       "grid_auto_columns": null,
       "grid_auto_flow": null,
       "grid_auto_rows": null,
       "grid_column": null,
       "grid_gap": null,
       "grid_row": null,
       "grid_template_areas": null,
       "grid_template_columns": null,
       "grid_template_rows": null,
       "height": null,
       "justify_content": null,
       "justify_items": null,
       "left": null,
       "margin": null,
       "max_height": null,
       "max_width": null,
       "min_height": null,
       "min_width": null,
       "object_fit": null,
       "object_position": null,
       "order": null,
       "overflow": null,
       "overflow_x": null,
       "overflow_y": null,
       "padding": null,
       "right": null,
       "top": null,
       "visibility": null,
       "width": null
      }
     },
     "3c5fe8929e654bd0b5107b1a4582afec": {
      "model_module": "@jupyter-widgets/base",
      "model_module_version": "1.2.0",
      "model_name": "LayoutModel",
      "state": {
       "_model_module": "@jupyter-widgets/base",
       "_model_module_version": "1.2.0",
       "_model_name": "LayoutModel",
       "_view_count": null,
       "_view_module": "@jupyter-widgets/base",
       "_view_module_version": "1.2.0",
       "_view_name": "LayoutView",
       "align_content": null,
       "align_items": null,
       "align_self": null,
       "border": null,
       "bottom": null,
       "display": null,
       "flex": null,
       "flex_flow": null,
       "grid_area": null,
       "grid_auto_columns": null,
       "grid_auto_flow": null,
       "grid_auto_rows": null,
       "grid_column": null,
       "grid_gap": null,
       "grid_row": null,
       "grid_template_areas": null,
       "grid_template_columns": null,
       "grid_template_rows": null,
       "height": null,
       "justify_content": null,
       "justify_items": null,
       "left": null,
       "margin": null,
       "max_height": null,
       "max_width": null,
       "min_height": null,
       "min_width": null,
       "object_fit": null,
       "object_position": null,
       "order": null,
       "overflow": null,
       "overflow_x": null,
       "overflow_y": null,
       "padding": null,
       "right": null,
       "top": null,
       "visibility": null,
       "width": null
      }
     },
     "4b43de5fcc464cc086789775e2431059": {
      "model_module": "@jupyter-widgets/base",
      "model_module_version": "1.2.0",
      "model_name": "LayoutModel",
      "state": {
       "_model_module": "@jupyter-widgets/base",
       "_model_module_version": "1.2.0",
       "_model_name": "LayoutModel",
       "_view_count": null,
       "_view_module": "@jupyter-widgets/base",
       "_view_module_version": "1.2.0",
       "_view_name": "LayoutView",
       "align_content": null,
       "align_items": null,
       "align_self": null,
       "border": null,
       "bottom": null,
       "display": null,
       "flex": null,
       "flex_flow": null,
       "grid_area": null,
       "grid_auto_columns": null,
       "grid_auto_flow": null,
       "grid_auto_rows": null,
       "grid_column": null,
       "grid_gap": null,
       "grid_row": null,
       "grid_template_areas": null,
       "grid_template_columns": null,
       "grid_template_rows": null,
       "height": null,
       "justify_content": null,
       "justify_items": null,
       "left": null,
       "margin": null,
       "max_height": null,
       "max_width": null,
       "min_height": null,
       "min_width": null,
       "object_fit": null,
       "object_position": null,
       "order": null,
       "overflow": null,
       "overflow_x": null,
       "overflow_y": null,
       "padding": null,
       "right": null,
       "top": null,
       "visibility": null,
       "width": null
      }
     },
     "4f6c3e63d64646ddb244f3c95a97000e": {
      "model_module": "@jupyter-widgets/base",
      "model_module_version": "1.2.0",
      "model_name": "LayoutModel",
      "state": {
       "_model_module": "@jupyter-widgets/base",
       "_model_module_version": "1.2.0",
       "_model_name": "LayoutModel",
       "_view_count": null,
       "_view_module": "@jupyter-widgets/base",
       "_view_module_version": "1.2.0",
       "_view_name": "LayoutView",
       "align_content": null,
       "align_items": null,
       "align_self": null,
       "border": null,
       "bottom": null,
       "display": null,
       "flex": null,
       "flex_flow": null,
       "grid_area": null,
       "grid_auto_columns": null,
       "grid_auto_flow": null,
       "grid_auto_rows": null,
       "grid_column": null,
       "grid_gap": null,
       "grid_row": null,
       "grid_template_areas": null,
       "grid_template_columns": null,
       "grid_template_rows": null,
       "height": null,
       "justify_content": null,
       "justify_items": null,
       "left": null,
       "margin": null,
       "max_height": null,
       "max_width": null,
       "min_height": null,
       "min_width": null,
       "object_fit": null,
       "object_position": null,
       "order": null,
       "overflow": null,
       "overflow_x": null,
       "overflow_y": null,
       "padding": null,
       "right": null,
       "top": null,
       "visibility": null,
       "width": null
      }
     },
     "612ce707655642efa7fd5fb2c1102da2": {
      "model_module": "@jupyter-widgets/controls",
      "model_module_version": "1.5.0",
      "model_name": "FloatProgressModel",
      "state": {
       "_dom_classes": [],
       "_model_module": "@jupyter-widgets/controls",
       "_model_module_version": "1.5.0",
       "_model_name": "FloatProgressModel",
       "_view_count": null,
       "_view_module": "@jupyter-widgets/controls",
       "_view_module_version": "1.5.0",
       "_view_name": "ProgressView",
       "bar_style": "success",
       "description": "",
       "description_tooltip": null,
       "layout": "IPY_MODEL_4b43de5fcc464cc086789775e2431059",
       "max": 447,
       "min": 0,
       "orientation": "horizontal",
       "style": "IPY_MODEL_6e9331d41a5e4bb7bc830b8c0e7f2406",
       "value": 447
      }
     },
     "66e1cf3143d846609b3fb6f7e262c2d9": {
      "model_module": "@jupyter-widgets/controls",
      "model_module_version": "1.5.0",
      "model_name": "DescriptionStyleModel",
      "state": {
       "_model_module": "@jupyter-widgets/controls",
       "_model_module_version": "1.5.0",
       "_model_name": "DescriptionStyleModel",
       "_view_count": null,
       "_view_module": "@jupyter-widgets/base",
       "_view_module_version": "1.2.0",
       "_view_name": "StyleView",
       "description_width": ""
      }
     },
     "6e9331d41a5e4bb7bc830b8c0e7f2406": {
      "model_module": "@jupyter-widgets/controls",
      "model_module_version": "1.5.0",
      "model_name": "ProgressStyleModel",
      "state": {
       "_model_module": "@jupyter-widgets/controls",
       "_model_module_version": "1.5.0",
       "_model_name": "ProgressStyleModel",
       "_view_count": null,
       "_view_module": "@jupyter-widgets/base",
       "_view_module_version": "1.2.0",
       "_view_name": "StyleView",
       "bar_color": null,
       "description_width": ""
      }
     },
     "b581f61d21e74b259670a996ca591038": {
      "model_module": "@jupyter-widgets/controls",
      "model_module_version": "1.5.0",
      "model_name": "DescriptionStyleModel",
      "state": {
       "_model_module": "@jupyter-widgets/controls",
       "_model_module_version": "1.5.0",
       "_model_name": "DescriptionStyleModel",
       "_view_count": null,
       "_view_module": "@jupyter-widgets/base",
       "_view_module_version": "1.2.0",
       "_view_name": "StyleView",
       "description_width": ""
      }
     },
     "c59b0c4265964db6b8d19fcb76e0de60": {
      "model_module": "@jupyter-widgets/controls",
      "model_module_version": "1.5.0",
      "model_name": "HTMLModel",
      "state": {
       "_dom_classes": [],
       "_model_module": "@jupyter-widgets/controls",
       "_model_module_version": "1.5.0",
       "_model_name": "HTMLModel",
       "_view_count": null,
       "_view_module": "@jupyter-widgets/controls",
       "_view_module_version": "1.5.0",
       "_view_name": "HTMLView",
       "description": "",
       "description_tooltip": null,
       "layout": "IPY_MODEL_359305f7d8c04759811adde6ab6ac324",
       "placeholder": "​",
       "style": "IPY_MODEL_66e1cf3143d846609b3fb6f7e262c2d9",
       "value": " 447/447 [22:37&lt;00:00,  2.20s/it]"
      }
     },
     "f2bd4af641d94c5892326d87229d2aff": {
      "model_module": "@jupyter-widgets/controls",
      "model_module_version": "1.5.0",
      "model_name": "HBoxModel",
      "state": {
       "_dom_classes": [],
       "_model_module": "@jupyter-widgets/controls",
       "_model_module_version": "1.5.0",
       "_model_name": "HBoxModel",
       "_view_count": null,
       "_view_module": "@jupyter-widgets/controls",
       "_view_module_version": "1.5.0",
       "_view_name": "HBoxView",
       "box_style": "",
       "children": [
        "IPY_MODEL_111b86eb3fdb4a4d8b7e9d657ed0c9f7",
        "IPY_MODEL_612ce707655642efa7fd5fb2c1102da2",
        "IPY_MODEL_c59b0c4265964db6b8d19fcb76e0de60"
       ],
       "layout": "IPY_MODEL_4f6c3e63d64646ddb244f3c95a97000e"
      }
     }
    },
    "version_major": 2,
    "version_minor": 0
   }
  }
 },
 "nbformat": 4,
 "nbformat_minor": 5
}
